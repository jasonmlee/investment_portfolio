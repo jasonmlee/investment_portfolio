{
 "cells": [
  {
   "cell_type": "code",
   "execution_count": 1,
   "metadata": {},
   "outputs": [],
   "source": [
    "import pandas as pd\n",
    "import requests\n",
    "\n",
    "def tickers_sp500():\n",
    "    url = 'https://en.wikipedia.org/wiki/List_of_S%26P_500_companies'\n",
    "    html = requests.get(url).text\n",
    "    df = pd.read_html(html, header=0)[0]\n",
    "    tickers = df['Symbol'].tolist()\n",
    "    return tickers\n",
    "\n",
    "def tickers_nasdaq():\n",
    "    url = 'http://www.nasdaqtrader.com/dynamic/symdir/nasdaqlisted.txt'\n",
    "    data = requests.get(url).text\n",
    "    # The data is '|' separated and last two lines are not needed\n",
    "    lines = data.split('\\n')\n",
    "    # Convert to DataFrame\n",
    "    df = pd.DataFrame([sub.split(\"|\") for sub in lines[1:-2]], columns=lines[0].split(\"|\"))\n",
    "    return df['Symbol'].tolist()\n",
    "\n",
    "def tickers_nyse():\n",
    "    url = 'http://www.nasdaqtrader.com/dynamic/symdir/otherlisted.txt'\n",
    "    data = requests.get(url).text\n",
    "    # The data is '|' separated and the last two lines are not needed\n",
    "    lines = data.split('\\n')\n",
    "    # Convert to DataFrame\n",
    "    df = pd.DataFrame([sub.split(\"|\") for sub in lines[1:-2]], columns=lines[0].split(\"|\"))\n",
    "    # Filter out only NYSE symbols\n",
    "    nyse_df = df[df['Exchange'] == 'N']\n",
    "    return nyse_df['ACT Symbol'].tolist()\n",
    "\n",
    "def tickers_dow():\n",
    "    url = 'https://en.wikipedia.org/wiki/Dow_Jones_Industrial_Average'\n",
    "    html = requests.get(url).text\n",
    "    df = pd.read_html(html, header=0, attrs = {'id': 'constituents'})[0]\n",
    "    tickers = df['Symbol'].tolist()\n",
    "    return tickers\n",
    "\n",
    "def tickers_amex():\n",
    "    url = 'http://www.nasdaqtrader.com/dynamic/symdir/otherlisted.txt'\n",
    "    data = requests.get(url).text\n",
    "    # The data is '|' separated and the last two lines are not needed\n",
    "    lines = data.split('\\n')\n",
    "    # Convert to DataFrame\n",
    "    df = pd.DataFrame([sub.split(\"|\") for sub in lines[1:-2]], columns=lines[0].split(\"|\"))\n",
    "    # Filter out only AMEX symbols\n",
    "    amex_df = df[df['Exchange'] == 'A']\n",
    "    return amex_df['ACT Symbol'].tolist()"
   ]
  }
 ],
 "metadata": {
  "kernelspec": {
   "display_name": "finance",
   "language": "python",
   "name": "python3"
  },
  "language_info": {
   "codemirror_mode": {
    "name": "ipython",
    "version": 3
   },
   "file_extension": ".py",
   "mimetype": "text/x-python",
   "name": "python",
   "nbconvert_exporter": "python",
   "pygments_lexer": "ipython3",
   "version": "3.12.6"
  }
 },
 "nbformat": 4,
 "nbformat_minor": 2
}
